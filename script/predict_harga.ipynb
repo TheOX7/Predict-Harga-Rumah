{
 "cells": [
  {
   "cell_type": "markdown",
   "metadata": {},
   "source": [
    "### Model"
   ]
  },
  {
   "cell_type": "code",
   "execution_count": 2,
   "metadata": {},
   "outputs": [
    {
     "data": {
      "text/html": [
       "<div>\n",
       "<style scoped>\n",
       "    .dataframe tbody tr th:only-of-type {\n",
       "        vertical-align: middle;\n",
       "    }\n",
       "\n",
       "    .dataframe tbody tr th {\n",
       "        vertical-align: top;\n",
       "    }\n",
       "\n",
       "    .dataframe thead th {\n",
       "        text-align: right;\n",
       "    }\n",
       "</style>\n",
       "<table border=\"1\" class=\"dataframe\">\n",
       "  <thead>\n",
       "    <tr style=\"text-align: right;\">\n",
       "      <th></th>\n",
       "      <th>harga</th>\n",
       "      <th>jumlah_kamar_tidur</th>\n",
       "      <th>jumlah_kamar_mandi</th>\n",
       "      <th>luas_tanah</th>\n",
       "      <th>luas_bangunan</th>\n",
       "      <th>carport</th>\n",
       "      <th>pasokan_listrik</th>\n",
       "      <th>kab/kota</th>\n",
       "      <th>kecamatan</th>\n",
       "      <th>keamanan</th>\n",
       "      <th>taman</th>\n",
       "      <th>jarak_rs_terdekat</th>\n",
       "      <th>jarak_sekolah_terdekat</th>\n",
       "      <th>jarak_tol_terdekat</th>\n",
       "    </tr>\n",
       "  </thead>\n",
       "  <tbody>\n",
       "    <tr>\n",
       "      <th>0</th>\n",
       "      <td>0.008829</td>\n",
       "      <td>0.083333</td>\n",
       "      <td>0.049180</td>\n",
       "      <td>0.061611</td>\n",
       "      <td>0.0400</td>\n",
       "      <td>0.075</td>\n",
       "      <td>0.042646</td>\n",
       "      <td>2</td>\n",
       "      <td>68</td>\n",
       "      <td>0</td>\n",
       "      <td>0</td>\n",
       "      <td>0.001076</td>\n",
       "      <td>0.003667</td>\n",
       "      <td>0.045251</td>\n",
       "    </tr>\n",
       "    <tr>\n",
       "      <th>1</th>\n",
       "      <td>0.001620</td>\n",
       "      <td>0.041667</td>\n",
       "      <td>0.049180</td>\n",
       "      <td>0.010319</td>\n",
       "      <td>0.0153</td>\n",
       "      <td>0.025</td>\n",
       "      <td>0.008703</td>\n",
       "      <td>2</td>\n",
       "      <td>68</td>\n",
       "      <td>1</td>\n",
       "      <td>0</td>\n",
       "      <td>0.001198</td>\n",
       "      <td>0.003473</td>\n",
       "      <td>0.042765</td>\n",
       "    </tr>\n",
       "    <tr>\n",
       "      <th>2</th>\n",
       "      <td>0.031155</td>\n",
       "      <td>0.055556</td>\n",
       "      <td>0.081967</td>\n",
       "      <td>0.253657</td>\n",
       "      <td>0.1107</td>\n",
       "      <td>0.200</td>\n",
       "      <td>0.032637</td>\n",
       "      <td>2</td>\n",
       "      <td>10</td>\n",
       "      <td>0</td>\n",
       "      <td>0</td>\n",
       "      <td>0.000954</td>\n",
       "      <td>0.003862</td>\n",
       "      <td>0.047737</td>\n",
       "    </tr>\n",
       "    <tr>\n",
       "      <th>3</th>\n",
       "      <td>0.006178</td>\n",
       "      <td>0.041667</td>\n",
       "      <td>0.016393</td>\n",
       "      <td>0.068924</td>\n",
       "      <td>0.0708</td>\n",
       "      <td>0.125</td>\n",
       "      <td>0.018277</td>\n",
       "      <td>2</td>\n",
       "      <td>79</td>\n",
       "      <td>1</td>\n",
       "      <td>0</td>\n",
       "      <td>0.001443</td>\n",
       "      <td>0.003862</td>\n",
       "      <td>0.047737</td>\n",
       "    </tr>\n",
       "    <tr>\n",
       "      <th>4</th>\n",
       "      <td>0.002550</td>\n",
       "      <td>0.027778</td>\n",
       "      <td>0.016393</td>\n",
       "      <td>0.013224</td>\n",
       "      <td>0.0200</td>\n",
       "      <td>0.125</td>\n",
       "      <td>0.037424</td>\n",
       "      <td>2</td>\n",
       "      <td>29</td>\n",
       "      <td>0</td>\n",
       "      <td>0</td>\n",
       "      <td>0.000587</td>\n",
       "      <td>0.004446</td>\n",
       "      <td>0.055196</td>\n",
       "    </tr>\n",
       "  </tbody>\n",
       "</table>\n",
       "</div>"
      ],
      "text/plain": [
       "      harga  jumlah_kamar_tidur  jumlah_kamar_mandi  luas_tanah  \\\n",
       "0  0.008829            0.083333            0.049180    0.061611   \n",
       "1  0.001620            0.041667            0.049180    0.010319   \n",
       "2  0.031155            0.055556            0.081967    0.253657   \n",
       "3  0.006178            0.041667            0.016393    0.068924   \n",
       "4  0.002550            0.027778            0.016393    0.013224   \n",
       "\n",
       "   luas_bangunan  carport  pasokan_listrik  kab/kota  kecamatan  keamanan  \\\n",
       "0         0.0400    0.075         0.042646         2         68         0   \n",
       "1         0.0153    0.025         0.008703         2         68         1   \n",
       "2         0.1107    0.200         0.032637         2         10         0   \n",
       "3         0.0708    0.125         0.018277         2         79         1   \n",
       "4         0.0200    0.125         0.037424         2         29         0   \n",
       "\n",
       "   taman  jarak_rs_terdekat  jarak_sekolah_terdekat  jarak_tol_terdekat  \n",
       "0      0           0.001076                0.003667            0.045251  \n",
       "1      0           0.001198                0.003473            0.042765  \n",
       "2      0           0.000954                0.003862            0.047737  \n",
       "3      0           0.001443                0.003862            0.047737  \n",
       "4      0           0.000587                0.004446            0.055196  "
      ]
     },
     "execution_count": 2,
     "metadata": {},
     "output_type": "execute_result"
    }
   ],
   "source": [
    "import pandas as pd\n",
    "import numpy as np\n",
    "import warnings\n",
    "warnings.filterwarnings('ignore')\n",
    "pd.options.display.max_columns = None\n",
    "\n",
    "df = pd.read_csv('../data/processed_dataset.csv')\n",
    "df.head()"
   ]
  },
  {
   "cell_type": "code",
   "execution_count": 30,
   "metadata": {},
   "outputs": [],
   "source": [
    "from sklearn.model_selection import train_test_split, GridSearchCV\n",
    "\n",
    "X = df.drop('harga', axis=1)\n",
    "y = df['harga']\n",
    "\n",
    "X_train, X_test, y_train, y_test = train_test_split(X, y, test_size=0.20)"
   ]
  },
  {
   "cell_type": "code",
   "execution_count": 31,
   "metadata": {},
   "outputs": [
    {
     "name": "stdout",
     "output_type": "stream",
     "text": [
      "<class 'pandas.core.frame.DataFrame'>\n",
      "RangeIndex: 2401 entries, 0 to 2400\n",
      "Data columns (total 14 columns):\n",
      " #   Column                  Non-Null Count  Dtype  \n",
      "---  ------                  --------------  -----  \n",
      " 0   harga                   2401 non-null   float64\n",
      " 1   jumlah_kamar_tidur      2401 non-null   float64\n",
      " 2   jumlah_kamar_mandi      2401 non-null   float64\n",
      " 3   luas_tanah              2401 non-null   float64\n",
      " 4   luas_bangunan           2401 non-null   float64\n",
      " 5   carport                 2401 non-null   float64\n",
      " 6   pasokan_listrik         2401 non-null   float64\n",
      " 7   kab/kota                2401 non-null   int64  \n",
      " 8   kecamatan               2401 non-null   int64  \n",
      " 9   keamanan                2401 non-null   int64  \n",
      " 10  taman                   2401 non-null   int64  \n",
      " 11  jarak_rs_terdekat       2401 non-null   float64\n",
      " 12  jarak_sekolah_terdekat  2401 non-null   float64\n",
      " 13  jarak_tol_terdekat      2401 non-null   float64\n",
      "dtypes: float64(10), int64(4)\n",
      "memory usage: 262.7 KB\n"
     ]
    }
   ],
   "source": [
    "df.info()"
   ]
  },
  {
   "cell_type": "code",
   "execution_count": 32,
   "metadata": {},
   "outputs": [],
   "source": [
    "from sklearn.metrics import mean_absolute_error, r2_score\n",
    "\n",
    "def evaluate_model(model, X_train, X_test, y_train, y_test):\n",
    "    \n",
    "    y_train_pred = model.predict(X_train)\n",
    "    y_test_pred = model.predict(X_test)\n",
    "    \n",
    "    mae_train = round(mean_absolute_error(y_train, y_train_pred), 4) * 100\n",
    "    mae_test = round(mean_absolute_error(y_test, y_test_pred), 4) * 100\n",
    "    \n",
    "    print(f\"Mean Absolute Error \\n Train: {mae_train} % | Test: {mae_test} %\")\n",
    "    \n",
    "    return mae_train, mae_test"
   ]
  },
  {
   "cell_type": "markdown",
   "metadata": {},
   "source": [
    "#### Baseline Model"
   ]
  },
  {
   "cell_type": "markdown",
   "metadata": {},
   "source": [
    "Linear Regression"
   ]
  },
  {
   "cell_type": "code",
   "execution_count": 33,
   "metadata": {},
   "outputs": [
    {
     "name": "stdout",
     "output_type": "stream",
     "text": [
      "Mean Absolute Error \n",
      " Train: 3.0700000000000003 % | Test: 3.37 %\n"
     ]
    }
   ],
   "source": [
    "from sklearn.linear_model import LinearRegression\n",
    "\n",
    "lr = LinearRegression()\n",
    "lr.fit(X_train, y_train)\n",
    "mae_train_lr, mae_test_lr = evaluate_model(lr, X_train, X_test, y_train, y_test) "
   ]
  },
  {
   "cell_type": "markdown",
   "metadata": {},
   "source": [
    "SVR (Support Vector Regression)"
   ]
  },
  {
   "cell_type": "code",
   "execution_count": 34,
   "metadata": {},
   "outputs": [
    {
     "name": "stdout",
     "output_type": "stream",
     "text": [
      "Mean Absolute Error \n",
      " Train: 8.61 % | Test: 8.9 %\n"
     ]
    }
   ],
   "source": [
    "from sklearn.svm import SVR\n",
    "\n",
    "svr = SVR()\n",
    "svr.fit(X_train, y_train)\n",
    "mae_train_svr, mae_test_svr = evaluate_model(svr, X_train, X_test, y_train, y_test) "
   ]
  },
  {
   "cell_type": "markdown",
   "metadata": {},
   "source": [
    "XGBRegressor"
   ]
  },
  {
   "cell_type": "code",
   "execution_count": 35,
   "metadata": {},
   "outputs": [
    {
     "name": "stdout",
     "output_type": "stream",
     "text": [
      "Mean Absolute Error \n",
      " Train: 0.13 % | Test: 2.11 %\n"
     ]
    }
   ],
   "source": [
    "from xgboost import XGBRegressor\n",
    "\n",
    "xgb = XGBRegressor()\n",
    "xgb.fit(X_train, y_train)\n",
    "mae_train_xgb, mae_test_xgb = evaluate_model(xgb, X_train, X_test, y_train, y_test) "
   ]
  },
  {
   "cell_type": "markdown",
   "metadata": {},
   "source": [
    "Random Forest"
   ]
  },
  {
   "cell_type": "code",
   "execution_count": 36,
   "metadata": {},
   "outputs": [
    {
     "name": "stdout",
     "output_type": "stream",
     "text": [
      "Mean Absolute Error \n",
      " Train: 0.58 % | Test: 1.7999999999999998 %\n"
     ]
    }
   ],
   "source": [
    "from sklearn.ensemble import RandomForestRegressor\n",
    "\n",
    "rf = RandomForestRegressor()\n",
    "rf.fit(X_train, y_train)\n",
    "mae_train_rf, mae_test_rf = evaluate_model(rf, X_train, X_test, y_train, y_test) "
   ]
  },
  {
   "cell_type": "markdown",
   "metadata": {},
   "source": [
    "Decision Tree"
   ]
  },
  {
   "cell_type": "code",
   "execution_count": 37,
   "metadata": {},
   "outputs": [
    {
     "name": "stdout",
     "output_type": "stream",
     "text": [
      "Mean Absolute Error \n",
      " Train: 0.59 % | Test: 1.8800000000000001 %\n"
     ]
    }
   ],
   "source": [
    "from sklearn.tree import DecisionTreeRegressor\n",
    "\n",
    "dt = RandomForestRegressor()\n",
    "dt.fit(X_train, y_train)\n",
    "mae_train_dt, mae_test_dt = evaluate_model(dt, X_train, X_test, y_train, y_test) "
   ]
  },
  {
   "cell_type": "markdown",
   "metadata": {},
   "source": [
    "Model Evaluation"
   ]
  },
  {
   "cell_type": "code",
   "execution_count": 38,
   "metadata": {},
   "outputs": [
    {
     "data": {
      "text/html": [
       "<div>\n",
       "<style scoped>\n",
       "    .dataframe tbody tr th:only-of-type {\n",
       "        vertical-align: middle;\n",
       "    }\n",
       "\n",
       "    .dataframe tbody tr th {\n",
       "        vertical-align: top;\n",
       "    }\n",
       "\n",
       "    .dataframe thead th {\n",
       "        text-align: right;\n",
       "    }\n",
       "</style>\n",
       "<table border=\"1\" class=\"dataframe\">\n",
       "  <thead>\n",
       "    <tr style=\"text-align: right;\">\n",
       "      <th></th>\n",
       "      <th>Baseline Model</th>\n",
       "      <th>MAE</th>\n",
       "    </tr>\n",
       "  </thead>\n",
       "  <tbody>\n",
       "    <tr>\n",
       "      <th>0</th>\n",
       "      <td>Random Forest</td>\n",
       "      <td>1.80</td>\n",
       "    </tr>\n",
       "    <tr>\n",
       "      <th>1</th>\n",
       "      <td>Decision Tree</td>\n",
       "      <td>1.88</td>\n",
       "    </tr>\n",
       "    <tr>\n",
       "      <th>2</th>\n",
       "      <td>XGBoost</td>\n",
       "      <td>2.11</td>\n",
       "    </tr>\n",
       "    <tr>\n",
       "      <th>3</th>\n",
       "      <td>Linear Regression</td>\n",
       "      <td>3.37</td>\n",
       "    </tr>\n",
       "    <tr>\n",
       "      <th>4</th>\n",
       "      <td>SVR</td>\n",
       "      <td>8.90</td>\n",
       "    </tr>\n",
       "  </tbody>\n",
       "</table>\n",
       "</div>"
      ],
      "text/plain": [
       "      Baseline Model   MAE\n",
       "0      Random Forest  1.80\n",
       "1      Decision Tree  1.88\n",
       "2            XGBoost  2.11\n",
       "3  Linear Regression  3.37\n",
       "4                SVR  8.90"
      ]
     },
     "execution_count": 38,
     "metadata": {},
     "output_type": "execute_result"
    }
   ],
   "source": [
    "pd.DataFrame({\n",
    "    'Baseline Model': ['Linear Regression', 'SVR', 'XGBoost', 'Random Forest', 'Decision Tree'],\n",
    "    'MAE': [mae_test_lr, mae_test_svr, mae_test_xgb, mae_test_rf, mae_test_dt],\n",
    "}).sort_values(by='MAE').reset_index(drop=True)"
   ]
  },
  {
   "cell_type": "code",
   "execution_count": 39,
   "metadata": {},
   "outputs": [
    {
     "data": {
      "text/html": [
       "<div>\n",
       "<style scoped>\n",
       "    .dataframe tbody tr th:only-of-type {\n",
       "        vertical-align: middle;\n",
       "    }\n",
       "\n",
       "    .dataframe tbody tr th {\n",
       "        vertical-align: top;\n",
       "    }\n",
       "\n",
       "    .dataframe thead th {\n",
       "        text-align: right;\n",
       "    }\n",
       "</style>\n",
       "<table border=\"1\" class=\"dataframe\">\n",
       "  <thead>\n",
       "    <tr style=\"text-align: right;\">\n",
       "      <th></th>\n",
       "      <th>Baseline Model</th>\n",
       "      <th>MAE Train</th>\n",
       "      <th>MAE Test</th>\n",
       "    </tr>\n",
       "  </thead>\n",
       "  <tbody>\n",
       "    <tr>\n",
       "      <th>0</th>\n",
       "      <td>XGBoost</td>\n",
       "      <td>0.13</td>\n",
       "      <td>2.11</td>\n",
       "    </tr>\n",
       "    <tr>\n",
       "      <th>1</th>\n",
       "      <td>Random Forest</td>\n",
       "      <td>0.58</td>\n",
       "      <td>1.80</td>\n",
       "    </tr>\n",
       "    <tr>\n",
       "      <th>2</th>\n",
       "      <td>Decision Tree</td>\n",
       "      <td>0.59</td>\n",
       "      <td>1.88</td>\n",
       "    </tr>\n",
       "    <tr>\n",
       "      <th>3</th>\n",
       "      <td>Linear Regression</td>\n",
       "      <td>3.07</td>\n",
       "      <td>3.37</td>\n",
       "    </tr>\n",
       "    <tr>\n",
       "      <th>4</th>\n",
       "      <td>SVR</td>\n",
       "      <td>8.61</td>\n",
       "      <td>8.90</td>\n",
       "    </tr>\n",
       "  </tbody>\n",
       "</table>\n",
       "</div>"
      ],
      "text/plain": [
       "      Baseline Model  MAE Train  MAE Test\n",
       "0            XGBoost       0.13      2.11\n",
       "1      Random Forest       0.58      1.80\n",
       "2      Decision Tree       0.59      1.88\n",
       "3  Linear Regression       3.07      3.37\n",
       "4                SVR       8.61      8.90"
      ]
     },
     "execution_count": 39,
     "metadata": {},
     "output_type": "execute_result"
    }
   ],
   "source": [
    "pd.DataFrame({\n",
    "    'Baseline Model': ['Linear Regression', 'SVR', 'XGBoost', 'Random Forest', 'Decision Tree'],\n",
    "    'MAE Train': [mae_train_lr, mae_train_svr, mae_train_xgb, mae_train_rf, mae_train_dt],\n",
    "    'MAE Test': [mae_test_lr, mae_test_svr, mae_test_xgb, mae_test_rf, mae_test_dt],\n",
    "}).sort_values(by=['MAE Train', 'MAE Test']).reset_index(drop=True)"
   ]
  },
  {
   "cell_type": "markdown",
   "metadata": {},
   "source": [
    "#### Hyperparameter Tuning"
   ]
  },
  {
   "cell_type": "code",
   "execution_count": 26,
   "metadata": {},
   "outputs": [],
   "source": [
    "from sklearn.model_selection import GridSearchCV, KFold\n",
    "\n",
    "kfold = KFold(n_splits=5, shuffle=True)"
   ]
  },
  {
   "cell_type": "markdown",
   "metadata": {},
   "source": [
    "Linear Regression"
   ]
  },
  {
   "cell_type": "code",
   "execution_count": 27,
   "metadata": {},
   "outputs": [
    {
     "name": "stdout",
     "output_type": "stream",
     "text": [
      "Best Params: {'fit_intercept': False, 'positive': False}\n",
      "Mean Absolute Error \n",
      " Train: 3.2099999999999995 % | Test: 3.16 %\n"
     ]
    }
   ],
   "source": [
    "lr_params = {'fit_intercept': [True, False], 'positive': [True, False]}\n",
    "best_lr = GridSearchCV(LinearRegression(), lr_params, cv=kfold, n_jobs=-1, scoring='neg_mean_absolute_error')\n",
    "best_lr.fit(X_train, y_train)\n",
    "\n",
    "print(f\"Best Params: {best_lr.best_params_}\")\n",
    "\n",
    "mae_train_best_lr, mae_test_best_lr = \\\n",
    "evaluate_model(best_lr.best_estimator_, X_train, X_test, y_train, y_test) "
   ]
  },
  {
   "cell_type": "markdown",
   "metadata": {},
   "source": [
    "SVR"
   ]
  },
  {
   "cell_type": "code",
   "execution_count": null,
   "metadata": {},
   "outputs": [],
   "source": []
  },
  {
   "cell_type": "code",
   "execution_count": 49,
   "metadata": {},
   "outputs": [
    {
     "name": "stdout",
     "output_type": "stream",
     "text": [
      "Best Params: {'kernel': 'rbf', 'C': 3}\n",
      "Mean Absolute Error \n",
      " Train: 8.04 % | Test: 8.27 %\n"
     ]
    }
   ],
   "source": [
    "from sklearn.model_selection import RandomizedSearchCV\n",
    "\n",
    "svr_params = {'C': range(1, 6), 'kernel': ['linear', 'rbf']}\n",
    "best_svr = RandomizedSearchCV(SVR(), svr_params, cv=kfold, n_jobs=-1, scoring='neg_mean_absolute_error')\n",
    "best_svr.fit(X_train, y_train)\n",
    "\n",
    "print(f\"Best Params: {best_svr.best_params_}\")\n",
    "\n",
    "mae_train_best_svr, mae_test_best_svr = \\\n",
    "evaluate_model(best_svr.best_estimator_, X_train, X_test, y_train, y_test) "
   ]
  },
  {
   "cell_type": "markdown",
   "metadata": {},
   "source": [
    "XGBoost"
   ]
  },
  {
   "cell_type": "code",
   "execution_count": 44,
   "metadata": {},
   "outputs": [
    {
     "name": "stdout",
     "output_type": "stream",
     "text": [
      "Best Params: {'learning_rate': 0.23, 'max_depth': 4, 'n_estimators': 25}\n",
      "Mean Absolute Error \n",
      " Train: 1.16 % | Test: 2.04 %\n"
     ]
    }
   ],
   "source": [
    "xgb_params = {'n_estimators': range(0, 50, 5), 'learning_rate': np.linspace(0.01, 1, 10), 'max_depth': range(1, 5)}\n",
    "best_xgb = GridSearchCV(XGBRegressor(), xgb_params, cv=kfold, n_jobs=-1, scoring='neg_mean_absolute_error')\n",
    "best_xgb.fit(X_train, y_train)\n",
    "\n",
    "print(f\"Best Params: {best_xgb.best_params_}\")\n",
    "mae_train_best_xgb, mae_test_best_xgb = \\\n",
    "evaluate_model(best_xgb.best_estimator_, X_train, X_test, y_train, y_test) "
   ]
  },
  {
   "cell_type": "markdown",
   "metadata": {},
   "source": [
    "Random Forest"
   ]
  },
  {
   "cell_type": "code",
   "execution_count": 45,
   "metadata": {},
   "outputs": [
    {
     "name": "stdout",
     "output_type": "stream",
     "text": [
      "Best Params: {'max_depth': 9, 'n_estimators': 45}\n",
      "Mean Absolute Error \n",
      " Train: 0.8500000000000001 % | Test: 1.9 %\n"
     ]
    }
   ],
   "source": [
    "rf_params = {'n_estimators': range(0, 50, 5), 'max_depth': range(1, 10)}\n",
    "best_rf = GridSearchCV(RandomForestRegressor(), rf_params, cv=kfold, n_jobs=-1, scoring='neg_mean_absolute_error')\n",
    "best_rf.fit(X_train, y_train)\n",
    "\n",
    "print(f\"Best Params: {best_rf.best_params_}\")\n",
    "mae_train_best_rf, mae_test_best_rf = \\\n",
    "evaluate_model(best_rf.best_estimator_, X_train, X_test, y_train, y_test) "
   ]
  },
  {
   "cell_type": "markdown",
   "metadata": {},
   "source": [
    "Decision Tree"
   ]
  },
  {
   "cell_type": "code",
   "execution_count": 46,
   "metadata": {},
   "outputs": [
    {
     "name": "stdout",
     "output_type": "stream",
     "text": [
      "Best Params: {'max_depth': 8, 'min_samples_split': 4}\n",
      "Mean Absolute Error \n",
      " Train: 0.8699999999999999 % | Test: 1.8800000000000001 %\n"
     ]
    }
   ],
   "source": [
    "dt_params = {'max_depth': range(1, 10), 'min_samples_split': range(1, 10)}\n",
    "best_dt = GridSearchCV(DecisionTreeRegressor(), dt_params, cv=kfold, n_jobs=-1, scoring='neg_mean_absolute_error')\n",
    "best_dt.fit(X_train, y_train)\n",
    "\n",
    "print(f\"Best Params: {best_dt.best_params_}\")\n",
    "mae_train_best_dt, mae_test_best_dt = \\\n",
    "evaluate_model(best_dt.best_estimator_, X_train, X_test, y_train, y_test) "
   ]
  },
  {
   "cell_type": "markdown",
   "metadata": {},
   "source": [
    "Evaluation Hyperparameter Tuning Model"
   ]
  },
  {
   "cell_type": "code",
   "execution_count": 50,
   "metadata": {},
   "outputs": [
    {
     "data": {
      "text/html": [
       "<div>\n",
       "<style scoped>\n",
       "    .dataframe tbody tr th:only-of-type {\n",
       "        vertical-align: middle;\n",
       "    }\n",
       "\n",
       "    .dataframe tbody tr th {\n",
       "        vertical-align: top;\n",
       "    }\n",
       "\n",
       "    .dataframe thead th {\n",
       "        text-align: right;\n",
       "    }\n",
       "</style>\n",
       "<table border=\"1\" class=\"dataframe\">\n",
       "  <thead>\n",
       "    <tr style=\"text-align: right;\">\n",
       "      <th></th>\n",
       "      <th>Model</th>\n",
       "      <th>Baseline MAE</th>\n",
       "      <th>Best MAE</th>\n",
       "    </tr>\n",
       "  </thead>\n",
       "  <tbody>\n",
       "    <tr>\n",
       "      <th>0</th>\n",
       "      <td>Random Forest</td>\n",
       "      <td>1.80</td>\n",
       "      <td>1.90</td>\n",
       "    </tr>\n",
       "    <tr>\n",
       "      <th>1</th>\n",
       "      <td>Decision Tree</td>\n",
       "      <td>1.88</td>\n",
       "      <td>1.88</td>\n",
       "    </tr>\n",
       "    <tr>\n",
       "      <th>2</th>\n",
       "      <td>XGBoost</td>\n",
       "      <td>2.11</td>\n",
       "      <td>2.04</td>\n",
       "    </tr>\n",
       "    <tr>\n",
       "      <th>3</th>\n",
       "      <td>Linear Regression</td>\n",
       "      <td>3.37</td>\n",
       "      <td>3.16</td>\n",
       "    </tr>\n",
       "    <tr>\n",
       "      <th>4</th>\n",
       "      <td>SVR</td>\n",
       "      <td>8.90</td>\n",
       "      <td>8.27</td>\n",
       "    </tr>\n",
       "  </tbody>\n",
       "</table>\n",
       "</div>"
      ],
      "text/plain": [
       "               Model  Baseline MAE  Best MAE\n",
       "0      Random Forest          1.80      1.90\n",
       "1      Decision Tree          1.88      1.88\n",
       "2            XGBoost          2.11      2.04\n",
       "3  Linear Regression          3.37      3.16\n",
       "4                SVR          8.90      8.27"
      ]
     },
     "execution_count": 50,
     "metadata": {},
     "output_type": "execute_result"
    }
   ],
   "source": [
    "pd.DataFrame({\n",
    "    'Model': ['Linear Regression', 'SVR', 'XGBoost', 'Random Forest', 'Decision Tree'],\n",
    "    'Baseline MAE': [mae_test_lr, mae_test_svr, mae_test_xgb, mae_test_rf, mae_test_dt],\n",
    "    'Best MAE' : [mae_test_best_lr, mae_test_best_svr, mae_test_best_xgb, mae_test_best_rf, mae_test_best_dt],\n",
    "}).sort_values(by=['Baseline MAE', 'Baseline MAE']).reset_index(drop=True)"
   ]
  },
  {
   "cell_type": "code",
   "execution_count": 51,
   "metadata": {},
   "outputs": [
    {
     "data": {
      "text/html": [
       "<div>\n",
       "<style scoped>\n",
       "    .dataframe tbody tr th:only-of-type {\n",
       "        vertical-align: middle;\n",
       "    }\n",
       "\n",
       "    .dataframe tbody tr th {\n",
       "        vertical-align: top;\n",
       "    }\n",
       "\n",
       "    .dataframe thead th {\n",
       "        text-align: right;\n",
       "    }\n",
       "</style>\n",
       "<table border=\"1\" class=\"dataframe\">\n",
       "  <thead>\n",
       "    <tr style=\"text-align: right;\">\n",
       "      <th></th>\n",
       "      <th>Model</th>\n",
       "      <th>Baseline MAE (Train)</th>\n",
       "      <th>Baseline MAE (Test)</th>\n",
       "      <th>Best MAE (Train)</th>\n",
       "      <th>Best MAE (Test)</th>\n",
       "    </tr>\n",
       "  </thead>\n",
       "  <tbody>\n",
       "    <tr>\n",
       "      <th>0</th>\n",
       "      <td>XGBoost</td>\n",
       "      <td>0.13</td>\n",
       "      <td>2.11</td>\n",
       "      <td>1.16</td>\n",
       "      <td>2.04</td>\n",
       "    </tr>\n",
       "    <tr>\n",
       "      <th>1</th>\n",
       "      <td>Random Forest</td>\n",
       "      <td>0.58</td>\n",
       "      <td>1.80</td>\n",
       "      <td>0.85</td>\n",
       "      <td>1.90</td>\n",
       "    </tr>\n",
       "    <tr>\n",
       "      <th>2</th>\n",
       "      <td>Decision Tree</td>\n",
       "      <td>0.59</td>\n",
       "      <td>1.88</td>\n",
       "      <td>0.87</td>\n",
       "      <td>1.88</td>\n",
       "    </tr>\n",
       "    <tr>\n",
       "      <th>3</th>\n",
       "      <td>Linear Regression</td>\n",
       "      <td>3.07</td>\n",
       "      <td>3.37</td>\n",
       "      <td>3.21</td>\n",
       "      <td>3.16</td>\n",
       "    </tr>\n",
       "    <tr>\n",
       "      <th>4</th>\n",
       "      <td>SVR</td>\n",
       "      <td>8.61</td>\n",
       "      <td>8.90</td>\n",
       "      <td>8.04</td>\n",
       "      <td>8.27</td>\n",
       "    </tr>\n",
       "  </tbody>\n",
       "</table>\n",
       "</div>"
      ],
      "text/plain": [
       "               Model  Baseline MAE (Train)  Baseline MAE (Test)  \\\n",
       "0            XGBoost                  0.13                 2.11   \n",
       "1      Random Forest                  0.58                 1.80   \n",
       "2      Decision Tree                  0.59                 1.88   \n",
       "3  Linear Regression                  3.07                 3.37   \n",
       "4                SVR                  8.61                 8.90   \n",
       "\n",
       "   Best MAE (Train)  Best MAE (Test)  \n",
       "0              1.16             2.04  \n",
       "1              0.85             1.90  \n",
       "2              0.87             1.88  \n",
       "3              3.21             3.16  \n",
       "4              8.04             8.27  "
      ]
     },
     "execution_count": 51,
     "metadata": {},
     "output_type": "execute_result"
    }
   ],
   "source": [
    "pd.DataFrame({\n",
    "    'Model': ['Linear Regression', 'SVR', 'XGBoost', 'Random Forest', 'Decision Tree'],\n",
    "    'Baseline MAE (Train)': [mae_train_lr, mae_train_svr, mae_train_xgb, mae_train_rf, mae_train_dt],\n",
    "    'Baseline MAE (Test)': [mae_test_lr, mae_test_svr, mae_test_xgb, mae_test_rf, mae_test_dt],\n",
    "    \n",
    "    'Best MAE (Train)' : [mae_train_best_lr, mae_train_best_svr, mae_train_best_xgb, mae_train_best_rf, mae_train_best_dt],\n",
    "    'Best MAE (Test)' : [mae_test_best_lr, mae_test_best_svr, mae_test_best_xgb, mae_test_best_rf, mae_test_best_dt],\n",
    "}).sort_values(by=['Baseline MAE (Train)', 'Baseline MAE (Test)', 'Best MAE (Train)', 'Best MAE (Test)']).reset_index(drop=True)"
   ]
  },
  {
   "cell_type": "markdown",
   "metadata": {},
   "source": [
    "### Dumping Model"
   ]
  },
  {
   "cell_type": "code",
   "execution_count": 53,
   "metadata": {},
   "outputs": [
    {
     "data": {
      "text/plain": [
       "['dt_model.joblib']"
      ]
     },
     "execution_count": 53,
     "metadata": {},
     "output_type": "execute_result"
    }
   ],
   "source": [
    "import joblib\n",
    "\n",
    "joblib.dump(best_lr, 'lr_model.joblib')\n",
    "joblib.dump(best_xgb, 'xgb_model.joblib')\n",
    "\n",
    "joblib.dump(best_rf, 'rf_model.joblib')\n",
    "joblib.dump(best_dt, 'dt_model.joblib')"
   ]
  }
 ],
 "metadata": {
  "kernelspec": {
   "display_name": "Python 3",
   "language": "python",
   "name": "python3"
  },
  "language_info": {
   "codemirror_mode": {
    "name": "ipython",
    "version": 3
   },
   "file_extension": ".py",
   "mimetype": "text/x-python",
   "name": "python",
   "nbconvert_exporter": "python",
   "pygments_lexer": "ipython3",
   "version": "3.12.4"
  }
 },
 "nbformat": 4,
 "nbformat_minor": 2
}
